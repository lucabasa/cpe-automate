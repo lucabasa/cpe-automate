{
 "cells": [
  {
   "cell_type": "markdown",
   "metadata": {
    "_uuid": "f96c89d092729f9b44adbdf42239abc07d8e33c3"
   },
   "source": [
    "The Center for Policing Equity has the mission of helping law enforcement professionals to better protect and serve the citizens of their cities. The path that was chosen is to use data to find and document situations where the disparity in treatment can compromise the mission of *protect and serve*.\n",
    "\n",
    "The data sources available to accomplish such mission are:\n",
    "* census data\n",
    "* policing data about use of force or other police-related actions\n",
    "* maps\n",
    "\n",
    "The challenge is to effectively combine these sources in order to make easy for a field expert to discover and document critical situations. The primary objective is to combine police data with census data and, as we will see, the shapefiles are a way of achieving this. In this notebook, I will present some descriptive statistics about census data and police data in order to display how I think the automation process should be. It is important to remember that any conclusion that didn't pass through several levels of skepticism has to be considered incorrect. For example, knowing that the majority of arrests involves a specific race means nothing without knowing how the underlying population is composed. Even then, the available data can be enough to prove that there is a significant difference from one segment of the population to the other but they are not telling us yet the reason behind this difference. Therefore, I strongly invite the reader to keep a skeptic eye towards what follows and please let me know if there is something methodologically wrong or other silly mistakes.\n",
    "\n",
    "A quick look at the available data reveals that, for how much effort it was spent to standardize the input of such analysis, it is not obvious to immediately get what data is available and what isn't. The United States of America is a place with wildly diverse situations and the data describing different places represent this diversity not only in the content, but also in the format.\n",
    "\n",
    "In other words, given a department and a suitable amount of time, it is not difficult to generate a report with the available data. However, the work has to be repeated almost from scratch once that we want to analyze the next department. On the other hand, investing time and resources in maintaining a healthy database can be a frustrating job because the data are coming from many different sources.\n",
    "\n",
    "Therefore, the solution proposed here aims to make easier to spot a problem in the data (thus before spending precious hours starting an analysis that can not be finished), have a quick overview of the relevant available information, and thus pave the way to combine and better explore a given department. It would foolish of me thinking that the proposed exploration is in any way satisfactory for an expert, simply because I do not have that expertise in this field. Here I want to propose a process that can facilitate the work of an expert, not to replace it. For this reason, every function was written with the intent of being customizable (either due to other preferences, different needs, or changes in the data). \n",
    "\n",
    "The notebook can be summarized as follows:\n",
    "\n",
    "* Check the quality of the data.\n",
    "* Import every piece of information available for a department\n",
    "* Get an overview of the census data\n",
    "* Get an overview of the police data\n",
    "* A simple way of combining these two sources of data\n",
    "* A case study to show how to combine census and police data and example analysis.\n",
    "\n",
    "The 2 cities used here are **Dallas** and **Indianapolis**. The former used just to introduce the various functions, the latter will also be subject of an analysis.\n",
    "\n",
    "The code written for this kernel will be soon available at my github: https://github.com/lucabasa/cpe-automate"
   ]
  },
  {
   "cell_type": "code",
   "execution_count": null,
   "metadata": {
    "_uuid": "82dda81f2d5ec23d897825689799d24b0ff6a6d8"
   },
   "outputs": [],
   "source": [
    "from os.path import join, isfile\n",
    "from os import path, scandir, listdir\n",
    "\n",
    "# standard\n",
    "import pandas as pd\n",
    "import numpy as np\n",
    "\n",
    "#visualization\n",
    "import seaborn as sns\n",
    "import matplotlib.pyplot as plt\n",
    "%matplotlib inline\n",
    "\n",
    "import geopandas as gp\n",
    "from shapely.geometry import Point\n",
    "\n",
    "import gc"
   ]
  },
  {
   "cell_type": "markdown",
   "metadata": {
    "_uuid": "3b0aa159f2dc5f5ad38342e38d82c74ebcd2acc2"
   },
   "source": [
    "# Structure of the input data and health check\n",
    "\n",
    "The first function is simply a helper to speed up every exploration of the data folder. "
   ]
  },
  {
   "cell_type": "code",
   "execution_count": null,
   "metadata": {
    "_uuid": "34858da72e933ee67e0e13ce0f1721ae25d5bd9b"
   },
   "outputs": [],
   "source": [
    "def list_all_files(location='../input/', pattern=None, recursive=True):\n",
    "    \"\"\"\n",
    "    This function returns a list of files at a given location (including subfolders)\n",
    "    \n",
    "    - location: path to the directory to be searched\n",
    "    - pattern: part of the file name to be searched (ex. pattern='.csv' would return all the csv files)\n",
    "    - recursive: boolean, if True the function calls itself for every subdirectory it finds\n",
    "    \"\"\"\n",
    "    subdirectories= [f.path for f in scandir(location) if f.is_dir()]\n",
    "    files = [join(location, f) for f in listdir(location) if isfile(join(location, f))]\n",
    "    if recursive:\n",
    "        for directory in subdirectories:\n",
    "            files.extend(list_all_files(directory))\n",
    "    if pattern:\n",
    "        files = [f for f in files if pattern in f]\n",
    "    return files"
   ]
  },
  {
   "cell_type": "code",
   "execution_count": null,
   "metadata": {
    "_uuid": "582eff4a44b28523e7f6654f59217ab5da06faab"
   },
   "outputs": [],
   "source": [
    "list_all_files()[11:16]  # printing only 5 files for simplicity"
   ]
  },
  {
   "cell_type": "markdown",
   "metadata": {
    "_uuid": "d2b5b999d16cfcd457525b20c00b3f3c958a2452"
   },
   "source": [
    "Next, we saw during this competition (and every other competition or realistic situation) that the folder structure of the data was somewhat clear but can present some minor annoying peculiarity. Therefore, the next set of functions scans through the input files and check that some consistency requirements are matched. This step was crucial to quickly find small and big criticalities and has the merit of being fairly scalable for being a 0.0.1 version.\n",
    "\n",
    "The checks implemented are:\n",
    "\n",
    "* Has every department the same set of topics (education, poverty, etc.)?\n",
    "* Are the geographic Id's consistent across the census data? \n",
    "* Do we have police data and shapefiles in good order?\n",
    "\n",
    "A serious error handling procedure is still missing, but this is good enough to give us a quick overview of what is available and what might require more attention."
   ]
  },
  {
   "cell_type": "code",
   "execution_count": null,
   "metadata": {
    "_uuid": "9b8e7ef7efe8cec5829f794729da6a0420a5d1ba"
   },
   "outputs": [],
   "source": [
    "def _get_topics(topics_list):\n",
    "    for topic in topics_list:\n",
    "        topics_list[topics_list.index(topic)] = topic.split('_')[-1]\n",
    "    return topics_list\n",
    "\n",
    "\n",
    "def check_topics(dept_num, base_topics, test_topics):\n",
    "    \"\"\"\n",
    "    This function checks that a department has all the topics (education, poverty, etc.)\n",
    "    that are present in the other departments.\n",
    "    \n",
    "    - dept_num: string identifying the department\n",
    "    - base_topics: list of topics that the other departments have (if empty, it is created)\n",
    "    - test_topics: topics found for the given department\n",
    "    \n",
    "    If there are new topics, the function updates base_topics and returns it\n",
    "    \"\"\"\n",
    "    test_topics = _get_topics(test_topics)\n",
    "    if len(base_topics) < 1:\n",
    "        base_topics = test_topics  # the first time just create the list\n",
    "    # check if something is missing\n",
    "    mis_topics = [top for top in base_topics if top not in test_topics]\n",
    "    if len(mis_topics) > 0:\n",
    "        print(f\"Department {dept_num} does not have data about the following topics:\")\n",
    "        print(mis_topics)\n",
    "    # check if something is new\n",
    "    new_topics = [top for top in test_topics if top not in base_topics]\n",
    "    if len(new_topics) > 0:\n",
    "        print(f\"Department {dept_num} has data about the following new topics:\")\n",
    "        print(new_topics)\n",
    "        print(\"The departments previously checked do not have these data\")\n",
    "        # updating the base_topics\n",
    "        base_topics = list(set(base_topics + test_topics))\n",
    "    return base_topics\n",
    "\n",
    "\n",
    "def check_ids(base_ids, data):\n",
    "    \"\"\"\n",
    "    This function checks that, across the topics, the id's are consistent\n",
    "    \"\"\"\n",
    "    tmp_ids = data['GEO.id2'].unique()\n",
    "    if len(tmp_ids) != data.shape[0]:\n",
    "        print(f\"In {file} inconsistent id's\")\n",
    "    if len(base_ids) < 1: # the first time it creates the \"base\" of id's\n",
    "        base_ids = tmp_ids\n",
    "    if set(tmp_ids) != set(base_ids):\n",
    "        print(f\"In {file} inconsistent id's with the other files\")\n",
    "    return base_ids\n",
    "\n",
    "\n",
    "def data_quality(location='../input/data-science-for-good/cpe-data/'):\n",
    "    \"\"\"\n",
    "    This is the main function, it checks every department at the given location,\n",
    "    assuming that every department is in a separate directory.\n",
    "    \n",
    "    It checks for:\n",
    "    - presence of police related data\n",
    "    - consistency of the ACS files (and relative metadata)\n",
    "    - presence of all the necessary shapefiles\n",
    "    \"\"\"\n",
    "    # Get the list of the departments\n",
    "    dept_list = [d.path for d in scandir(location) if d.is_dir()]\n",
    "    topics = []  # needed to check if we have all\n",
    "    \n",
    "    # loop over departments\n",
    "    for dept in dept_list:\n",
    "        dept_num = dept.split('_')[1]\n",
    "        print(\"_\"*40)\n",
    "        print(f'Checking department {dept_num}')\n",
    "        \n",
    "        # Check if we have some kind of data about crime or police-------------\n",
    "        crime_files = list_all_files(dept, pattern='.csv', recursive=False)\n",
    "        if len(crime_files) < 1:\n",
    "            print(f\"Department {dept_num} does not have data about police interventions\")\n",
    "        else:\n",
    "            print(\"Department {} has {} file(s) about police interventions\".format(dept_num, \n",
    "                                                                                   len(crime_files)))\n",
    "            \n",
    "        # Check the ACS data consistency -------------------------------------------\n",
    "        data_path = dept + '/' + dept_num + '_ACS_data/'\n",
    "        # Check if we have all the topics (poverty, education, etc)\n",
    "        temp_topics = [d.path for d in scandir(data_path) if d.is_dir()]\n",
    "        topics = check_topics(dept_num, topics, temp_topics)\n",
    "        \n",
    "        # Check if the data have consistent id's and columns\n",
    "        files = list_all_files(data_path, pattern='_with_ann.csv')\n",
    "        ids = []  # needed to check if we have all\n",
    "        for file in files:\n",
    "            data = pd.read_csv(file, skiprows=[1], low_memory=False, nrows=3)  # nrows is for speed\n",
    "            meta = file.replace('_with_ann.csv', '_metadata.csv')\n",
    "            metadata = pd.read_csv(meta, header=None, names=['key', 'description'])\n",
    "            if not data.columns.all() in list(metadata['key']):\n",
    "                print(\"In {} inconsistent metadata\".format(file))\n",
    "            ids = check_ids(ids, data)\n",
    "        \n",
    "        # Check the Shapefiles consistency ------------------------------------------\n",
    "        data_path = dept + '/' + dept_num + '_Shapefiles/'\n",
    "        extensions = ['.shp', '.shx', '.dbf', '.prj']\n",
    "        for ext in extensions:\n",
    "            files = list_all_files(data_path, pattern=ext)\n",
    "            if len(files) < 1:\n",
    "                print(\"Department {} does not have the {} file\".format(dept_num, \n",
    "                                                                       ext))\n",
    "            if len(files) > 1:\n",
    "                print(\"Department {} has {} files with extension {}\".format(dept_num, \n",
    "                                                                            len(files), \n",
    "                                                                            ext))\n",
    "        print(\"\\n\")\n",
    "    print(\"Done!\")"
   ]
  },
  {
   "cell_type": "code",
   "execution_count": null,
   "metadata": {
    "_uuid": "5f9eca48d6e9f12ca48382b4e39519a909237d3b"
   },
   "outputs": [],
   "source": [
    "data_quality()"
   ]
  },
  {
   "cell_type": "markdown",
   "metadata": {
    "_uuid": "f13275bb112894d9674145303a7c52243f208be3"
   },
   "source": [
    "We see immediately that Dept_37-00027 is missing its projection file (as we know already thanks to other popular kernels) and that some departments have slightly different ways of calling some of the topics (poverty vs poverty-status, etc.). Before the cleaning done by the organizers, other inconsistencies were found by this function.\n",
    "\n",
    "# Import a department\n",
    "\n",
    "Once that we know how the folder structure is, we need to have all the available data in one convenient structure. I chose a dictionary of DataFrames to be that structure because dictionaries are awesome.\n",
    "\n",
    "An issue that can be quickly spotted is that the ACS files have a lot of columns and often they are missing the entries. On top of that, the missing entries are not a simple *NaN* but rather some symbol.  I wanted to take care of that after I spent so much time to check what the individual column codes meant to then find out it was little to no information in them.\n",
    "\n",
    "Therefore, the import process is also a generic cleaning of the data with missing values. As of now, every column with more than 30% of missing entries is not imported. In the future, there can be a method to change this parameter."
   ]
  },
  {
   "cell_type": "code",
   "execution_count": null,
   "metadata": {
    "_uuid": "6f013d0a6756fdc51dfb7073a2a4c685bed1f305"
   },
   "outputs": [],
   "source": [
    "def import_topic(path, tolerance=0.7):\n",
    "    \"\"\"\n",
    "    Imports the file at a given location,\n",
    "    Coerces the values to be numerical in order to easily spot the missing values\n",
    "    Drops every column with enough missing values, the threshold is set by the parameter tolerance\n",
    "    \n",
    "    It returns 2 DataFrames: one with the data, one with the metadata.\n",
    "    \"\"\"\n",
    "    # find the file with the ACS data and load it\n",
    "    datafile = list_all_files(path, pattern='_with_ann.csv')[0]\n",
    "    data = pd.read_csv(datafile, skiprows=[1], low_memory=False)\n",
    "    # take out the ids momentarily\n",
    "    ids = data[[col for col in data.columns if 'GEO' in col]]\n",
    "    rest = data[[col for col in data.columns if 'GEO' not in col]]\n",
    "    # convert to numeric and force na's if necessary\n",
    "    rest = rest.apply(pd.to_numeric, errors='coerce')\n",
    "    # put data together again\n",
    "    data = ids.join(rest)\n",
    "    print(f'Shape: {data.shape}')\n",
    "    cols = data.columns\n",
    "    nrows = data.shape[0]\n",
    "    removed = 0\n",
    "    for col in cols:\n",
    "        mis = data[col].isnull().sum() / nrows\n",
    "        if mis > tolerance:\n",
    "            removed += 1\n",
    "            del data[col]\n",
    "    if removed > 0:\n",
    "        print(\"Removed {} columns because more than {}% of the values are missing\".format(removed, \n",
    "                                                                                      tolerance*100))\n",
    "        print(f\"New shape: {data.shape}\")\n",
    "    meta = datafile.replace('_with_ann.csv', '_metadata.csv')\n",
    "    metadata = pd.read_csv(meta, header=None, names=['key', 'description'])\n",
    "    return data, metadata\n",
    "\n",
    "\n",
    "def import_dept(location):\n",
    "    \"\"\"\n",
    "    Imports all the police files, the ACS, the shapefiles at a given location\n",
    "    \n",
    "    It returns a dictionary of DataFrames\n",
    "    \"\"\"\n",
    "    dept_num = location.split('_')[1]\n",
    "    print(f'Importing department {dept_num}')\n",
    "    print('\\n')\n",
    "    data_list = {}\n",
    "    # Police data ------------------------\n",
    "    print(\"Importing police data...\")\n",
    "    crime_files = list_all_files(location, pattern='.csv', recursive=False)\n",
    "    crm_count = 1\n",
    "    for crm in crime_files:\n",
    "        crm_name = \"police_\" + str(crm_count)\n",
    "        data_list[crm_name] = pd.read_csv(crm, skiprows=[1], low_memory=False)\n",
    "        print(\"File {}, shape: {}\".format(crm_count,\n",
    "                                         data_list[crm_name].shape))\n",
    "        crm_count += 1\n",
    "    # ACS -------\n",
    "    data_path = location + '/' + dept_num + '_ACS_data/'\n",
    "    topics = listdir(data_path)\n",
    "    for topic in topics:\n",
    "        topic_name = topic.split('_')[-1]\n",
    "        print(f'Importing {topic_name}...')\n",
    "        data, meta = import_topic(data_path + topic, tolerance=0.3)  # I am being more strict than the default\n",
    "        data_list[topic_name] = data\n",
    "        data_list[topic_name + '_meta'] = meta    \n",
    "    # Shapefiles -----\n",
    "    print(\"Importing shapefile(s)...\")\n",
    "    data_path = location + '/' + dept_num + '_Shapefiles/'\n",
    "    shapes = list_all_files(data_path, pattern='.shp')\n",
    "    shapes = [shp for shp in shapes if shp.endswith('.shp')]\n",
    "    shp_count = 1\n",
    "    for shp in shapes:\n",
    "        shp_name = 'shapefile_' + str(shp_count)\n",
    "        data_list[shp_name] = gp.read_file(shp)\n",
    "        print(\"File {}, shape: {}\".format(shp_count,\n",
    "                                         data_list[shp_name].shape))\n",
    "        shp_count += 1\n",
    "    gc.collect() # in case some of the files were really big\n",
    "    return data_list"
   ]
  },
  {
   "cell_type": "markdown",
   "metadata": {
    "_uuid": "891229641e072aece7e74b78d8e927e753cd649d"
   },
   "source": [
    "The merit of this function is that it spots further inconsistencies (if it fails, something is odd) and makes everything available very quickly.\n",
    "\n",
    "Let's see what departments are available once more and import a random one to show how the function works. Re-running the next cell with a different department can give you more information regarding how flexibles are the methods here presented (and, of course, what are their limitations)."
   ]
  },
  {
   "cell_type": "code",
   "execution_count": null,
   "metadata": {
    "_uuid": "94312c1bba3af83e192e1e6fe3aa9f322b417dd7"
   },
   "outputs": [],
   "source": [
    "dept_list = [d.path for d in scandir('../input/data-science-for-good/cpe-data/') if d.is_dir()]\n",
    "dept_list"
   ]
  },
  {
   "cell_type": "code",
   "execution_count": null,
   "metadata": {
    "_uuid": "ee2a25127c2d5e2ddb73f4888d77c21312c01a5b"
   },
   "outputs": [],
   "source": [
    "dept = import_dept(dept_list[9])"
   ]
  },
  {
   "cell_type": "code",
   "execution_count": null,
   "metadata": {
    "_uuid": "135c673682ab10a10fb5f60a294f02265923d0f8"
   },
   "outputs": [],
   "source": [
    "dept.keys()"
   ]
  },
  {
   "cell_type": "markdown",
   "metadata": {
    "_uuid": "f9e07bf296c2cbc0df6cba09c701709d5ca8ca3e"
   },
   "source": [
    "Did I mention that dictionaries are awesome? \n",
    "\n",
    "Let's have a look at one of the files"
   ]
  },
  {
   "cell_type": "code",
   "execution_count": null,
   "metadata": {
    "_uuid": "23169a15ff4151e242ae04b1d75ab19a928c47c6"
   },
   "outputs": [],
   "source": [
    "poverty = dept['poverty']\n",
    "poverty.head(2)"
   ]
  },
  {
   "cell_type": "markdown",
   "metadata": {
    "_uuid": "353218878eb8db4c8b4910bdd95ad73de2c1954b"
   },
   "source": [
    "As we see both from the log messages of the import and from this table, the census data are very wide tables.\n",
    "\n",
    "I personally struggled a lot to find out what information I could take away from DataFrames with so many non-descriptive columns. Luckily we have the metadata and I made up this simply routine to find out what is in there."
   ]
  },
  {
   "cell_type": "code",
   "execution_count": null,
   "metadata": {
    "_uuid": "49b5f288755b9b32515c75128eb596badff36f66"
   },
   "outputs": [],
   "source": [
    "pov_meta = dept['poverty_meta']\n",
    "# selecting only the columns that survived the import\n",
    "pov_meta = pov_meta.loc[pov_meta.key.isin(list(poverty.columns))]  \n",
    "\n",
    "for i in range(0,5):  # to have a full view use range(0,200)\n",
    "    name = 'EST_VC' + str(i).zfill(2)  # focusing on the estimates\n",
    "    pov_est = pov_meta[pov_meta.key.str.contains(name)].copy()\n",
    "    desc = pov_est.description.values\n",
    "    if len(desc) > 0 :\n",
    "        print(name)\n",
    "        print(desc)\n",
    "        print(\"\\n\")"
   ]
  },
  {
   "cell_type": "markdown",
   "metadata": {
    "_uuid": "55f09bd795abd7620b2b9f411a5163dd98e502a1"
   },
   "source": [
    "With a few lines of code we know what the columns mean. For example:\n",
    "\n",
    "* HC01 is about Total numbers\n",
    "* HC02 is about Totals below the poverty level\n",
    "* HC03 is about the percentage below the poverty level.\n",
    "\n",
    "Then we know that each VC code is corresponding to a different segment of the population (either by race, gender, education, age, etc.).\n",
    "\n",
    "It is an overwhelming feeling the one of having to look into so many different segments. That's why I propose the following selection\n",
    "\n",
    "# ACS summary\n",
    "\n",
    "This section is aimed to create one DataFrame with all the information that I found relevant by reading their description. In doing so, it also gives a quick overview of the ACS data.\n",
    "\n",
    "The proposed columns are (and it is very easy to add or remove some of them):"
   ]
  },
  {
   "cell_type": "code",
   "execution_count": null,
   "metadata": {
    "_uuid": "8cf0ed279fb56a1d51070544097a30946592ed10"
   },
   "outputs": [],
   "source": [
    "poverty_list = {'HC01_EST_VC01' : 'p_total_est',  # these are just those we know the poverty level of\n",
    "                'HC01_MOE_VC01' : 'p_total_moe',\n",
    "                'HC02_EST_VC01' : 'p_below_pov_est',\n",
    "                'HC02_MOE_VC01' : 'p_below_pov_moe',\n",
    "                'HC03_EST_VC01' : 'p_below_pov_perc_est',\n",
    "                'HC03_MOE_VC01' : 'p_below_pov_perc_moe',\n",
    "                'HC02_EST_VC14' : 'p_males_below_pov_est',\n",
    "                'HC02_MOE_VC14' : 'p_males_below_pov_moe',\n",
    "                'HC03_EST_VC14' : 'p_males_below_pov_perc_est',\n",
    "                'HC03_MOE_VC14' : 'p_males_below_pov_perc_moe',\n",
    "                'HC02_EST_VC15' : 'p_females_below_pov_est',\n",
    "                'HC02_MOE_VC15' : 'p_females_below_pov_moe',\n",
    "                'HC03_EST_VC15' : 'p_females_below_pov_perc_est',\n",
    "                'HC03_MOE_VC15' : 'p_females_below_pov_perc_moe',\n",
    "                'HC02_EST_VC18' : 'p_white_below_pov_est',\n",
    "                'HC02_MOE_VC18' : 'p_white_below_pov_moe',\n",
    "                'HC03_EST_VC18' : 'p_white_below_pov_perc_est',\n",
    "                'HC03_MOE_VC18' : 'p_white_below_pov_perc_moe',\n",
    "                'HC02_EST_VC19' : 'p_black_below_pov_est',\n",
    "                'HC02_MOE_VC19' : 'p_black_below_pov_moe',\n",
    "                'HC03_EST_VC19' : 'p_black_below_pov_perc_est',\n",
    "                'HC03_MOE_VC19' : 'p_black_below_pov_perc_moe',\n",
    "                'HC02_EST_VC20' : 'p_native_below_pov_est',\n",
    "                'HC02_MOE_VC20' : 'p_native_below_pov_moe',\n",
    "                'HC03_EST_VC20' : 'p_native_below_pov_perc_est',\n",
    "                'HC03_MOE_VC20' : 'p_native_below_pov_perc_moe',\n",
    "                'HC02_EST_VC21' : 'p_asian_below_pov_est',\n",
    "                'HC02_MOE_VC21' : 'p_asian_below_pov_moe',\n",
    "                'HC03_EST_VC21' : 'p_asian_below_pov_perc_est',\n",
    "                'HC03_MOE_VC21' : 'p_asian_below_pov_perc_moe',\n",
    "                'HC02_EST_VC22' : 'p_islander_below_pov_est',\n",
    "                'HC02_MOE_VC22' : 'p_islander_below_pov_moe',\n",
    "                'HC03_EST_VC22' : 'p_islander_below_pov_perc_est',\n",
    "                'HC03_MOE_VC22' : 'p_islander_below_pov_perc_moe',\n",
    "                'HC02_EST_VC23' : 'p_other_race_below_pov_est',\n",
    "                'HC02_MOE_VC23' : 'p_other_race_below_pov_moe',\n",
    "                'HC03_EST_VC23' : 'p_other_race_below_pov_perc_est',\n",
    "                'HC03_MOE_VC23' : 'p_other_race_below_pov_perc_moe',\n",
    "                'HC02_EST_VC26' : 'p_hispanic_below_pov_est',\n",
    "                'HC02_MOE_VC26' : 'p_hispanic_below_pov_moe',\n",
    "                'HC03_EST_VC26' : 'p_hispanic_below_pov_perc_est',\n",
    "                'HC03_MOE_VC26' : 'p_hispanic_below_pov_perc_moe'\n",
    "                }\n",
    "\n",
    "\n",
    "race_list = {'HC01_VC03': 'total_population',\n",
    "             'HC01_VC04': 'total_males',\n",
    "             'HC01_VC05': 'total_females',\n",
    "             'HC01_VC49': 'total_white',\n",
    "             'HC03_VC49': 'perc_white',\n",
    "             'HC01_VC50': 'total_black',\n",
    "             'HC03_VC50': 'perc_black',\n",
    "             'HC01_VC51': 'total_native',  # sorry for not including the individual tribes\n",
    "             'HC03_VC51': 'perc_native',\n",
    "             'HC01_VC56': 'total_asian',\n",
    "             'HC03_VC56': 'perc_asian', # sorry for not aknowledging that Asia is a huge place\n",
    "             'HC01_VC64': 'total_islander',\n",
    "             'HC03_VC64': 'perc_islander',\n",
    "             'HC01_VC69': 'total_other_race',\n",
    "             'HC03_VC69': 'perc_other_race',\n",
    "             'HC01_VC88': 'total_hispanic',\n",
    "             'HC03_VC88': 'perc_hispanic'\n",
    "            }\n",
    "\n",
    "\n",
    "housing_list = {'HC01_EST_VC01': 'h_total_houses_est',\n",
    "                'HC01_MOE_VC01': 'h_total_houses_moe',\n",
    "                'HC02_EST_VC01': 'h_owner_houses_est',\n",
    "                'HC02_MOE_VC01': 'h_owner_houses_moe',\n",
    "                'HC03_EST_VC01': 'h_rented_houses_est',\n",
    "                'HC03_MOE_VC01': 'h_rented_houses_moe',\n",
    "                'HC04_EST_VC04': 'h_total_houses_white_est',\n",
    "                'HC04_MOE_VC04': 'h_total_houses_white_moe',\n",
    "                'HC02_EST_VC04': 'h_owner_houses_white_est',\n",
    "                'HC02_MOE_VC04': 'h_owner_houses_white_moe',\n",
    "                'HC03_EST_VC04': 'h_rented_houses_white_est',\n",
    "                'HC03_MOE_VC04': 'h_rented_houses_white_moe',\n",
    "                'HC05_EST_VC05': 'h_total_houses_black_est',\n",
    "                'HC05_MOE_VC05': 'h_total_houses_black_moe',\n",
    "                'HC02_EST_VC05': 'h_owner_houses_black_est',\n",
    "                'HC02_MOE_VC05': 'h_owner_houses_black_moe',\n",
    "                'HC03_EST_VC05': 'h_rented_houses_black_est',\n",
    "                'HC03_MOE_VC05': 'h_rented_houses_black_moe',\n",
    "                'HC06_EST_VC06': 'h_total_houses_native_est',\n",
    "                'HC06_MOE_VC06': 'h_total_houses_native_moe',\n",
    "                'HC02_EST_VC06': 'h_owner_houses_native_est',\n",
    "                'HC02_MOE_VC06': 'h_owner_houses_native_moe',\n",
    "                'HC03_EST_VC06': 'h_rented_houses_native_est',\n",
    "                'HC03_MOE_VC06': 'h_rented_houses_native_moe',\n",
    "                'HC07_EST_VC07': 'h_total_houses_asian_est',\n",
    "                'HC07_MOE_VC07': 'h_total_houses_asian_moe',\n",
    "                'HC02_EST_VC07': 'h_owner_houses_asian_est',\n",
    "                'HC02_MOE_VC07': 'h_owner_houses_asian_moe',\n",
    "                'HC03_EST_VC07': 'h_rented_houses_asian_est',\n",
    "                'HC03_MOE_VC07': 'h_rented_houses_asian_moe',\n",
    "                'HC08_EST_VC08': 'h_total_houses_islander_est',\n",
    "                'HC08_MOE_VC08': 'h_total_houses_islander_moe',\n",
    "                'HC02_EST_VC08': 'h_owner_houses_islander_est',\n",
    "                'HC02_MOE_VC08': 'h_owner_houses_islander_moe',\n",
    "                'HC03_EST_VC08': 'h_rented_houses_islander_est',\n",
    "                'HC03_MOE_VC08': 'h_rented_houses_islander_moe',\n",
    "                'HC09_EST_VC09': 'h_total_houses_other_race_est',\n",
    "                'HC09_MOE_VC09': 'h_total_houses_other_race_moe',\n",
    "                'HC02_EST_VC09': 'h_owner_houses_other_race_est',\n",
    "                'HC02_MOE_VC09': 'h_owner_houses_other_race_moe',\n",
    "                'HC03_EST_VC09': 'h_rented_houses_other_race_est',\n",
    "                'HC03_MOE_VC09': 'h_rented_houses_other_race_moe',\n",
    "                'HC12_EST_VC12': 'h_total_houses_hispanic_est',\n",
    "                'HC12_MOE_VC12': 'h_total_houses_hispanic_moe',\n",
    "                'HC02_EST_VC12': 'h_owner_houses_hispanic_est',\n",
    "                'HC02_MOE_VC12': 'h_owner_houses_hispanic_moe',\n",
    "                'HC03_EST_VC12': 'h_rented_houses_hispanic_est',\n",
    "                'HC03_MOE_VC12': 'h_rented_houses_hispanic_moe'\n",
    "               }\n",
    "\n",
    "\n",
    "income_list = {'HC01_EST_VC02': 'i_total_income_est',\n",
    "               'HC01_MOE_VC02': 'i_total_income_moe',\n",
    "               'HC02_EST_VC02': 'i_median_income_est',\n",
    "               'HC02_MOE_VC02': 'i_median_income_moe',\n",
    "               'HC01_EST_VC04': 'i_total_income_white_est',\n",
    "               'HC01_MOE_VC04': 'i_total_income_white_moe',\n",
    "               'HC02_EST_VC04': 'i_median_income_white_est',\n",
    "               'HC02_MOE_VC04': 'i_median_income_white_moe',\n",
    "               'HC01_EST_VC05': 'i_total_income_black_est',\n",
    "               'HC01_MOE_VC05': 'i_total_income_black_moe',\n",
    "               'HC02_EST_VC05': 'i_median_income_black_est',\n",
    "               'HC02_MOE_VC05': 'i_median_income_black_moe',\n",
    "               'HC01_EST_VC06': 'i_total_income_native_est',\n",
    "               'HC01_MOE_VC06': 'i_total_income_native_moe',\n",
    "               'HC02_EST_VC06': 'i_median_income_native_est',\n",
    "               'HC02_MOE_VC06': 'i_median_income_native_moe',\n",
    "               'HC01_EST_VC07': 'i_total_income_asian_est',\n",
    "               'HC01_MOE_VC07': 'i_total_income_asian_moe',\n",
    "               'HC02_EST_VC07': 'i_median_income_asian_est',\n",
    "               'HC02_MOE_VC07': 'i_median_income_asian_moe',\n",
    "               'HC01_EST_VC08': 'i_total_income_islander_est',\n",
    "               'HC01_MOE_VC08': 'i_total_income_islander_moe',\n",
    "               'HC02_EST_VC08': 'i_median_income_islander_est',\n",
    "               'HC02_MOE_VC08': 'i_median_income_islander_moe',\n",
    "               'HC01_EST_VC09': 'i_total_income_other_race_est',\n",
    "               'HC01_MOE_VC09': 'i_total_income_other_race_moe',\n",
    "               'HC02_EST_VC09': 'i_median_income_other_race_est',\n",
    "               'HC02_MOE_VC09': 'i_median_income_other_race_moe',\n",
    "               'HC01_EST_VC12': 'i_total_income_hispanic_est',\n",
    "               'HC01_MOE_VC12': 'i_total_income_hispanic_moe',\n",
    "               'HC02_EST_VC12': 'i_median_income_hispanic_est',\n",
    "               'HC02_MOE_VC12': 'i_median_income_hispanic_moe'\n",
    "              }\n",
    "\n",
    "\n",
    "employment_list = {'HC04_EST_VC01': 'e_unempl_rate_est',\n",
    "                   'HC04_MOE_VC01': 'e_unempl_rate_moe',\n",
    "                   'HC04_EST_VC15': 'e_unempl_rate_white_est',\n",
    "                   'HC04_MOE_VC15': 'e_unempl_rate_white_moe',\n",
    "                   'HC04_EST_VC16': 'e_unempl_rate_black_est',\n",
    "                   'HC04_MOE_VC16': 'e_unempl_rate_black_moe',\n",
    "                   'HC04_EST_VC17': 'e_unempl_rate_native_est',\n",
    "                   'HC04_MOE_VC17': 'e_unempl_rate_native_moe',\n",
    "                   'HC04_EST_VC18': 'e_unempl_rate_asian_est',\n",
    "                   'HC04_MOE_VC18': 'e_unempl_rate_asian_moe',\n",
    "                   'HC04_EST_VC19': 'e_unempl_rate_islander_est',\n",
    "                   'HC04_MOE_VC19': 'e_unempl_rate_islander_moe',\n",
    "                   'HC04_EST_VC20': 'e_unempl_rate_other_race_est',\n",
    "                   'HC04_MOE_VC20': 'e_unempl_rate_other_race_moe',\n",
    "                   'HC04_EST_VC23': 'e_unempl_rate_hispanic_est',\n",
    "                   'HC04_MOE_VC23': 'e_unempl_rate_hispanic_moe',\n",
    "                   'HC04_EST_VC28': 'e_unempl_rate_males_est',\n",
    "                   'HC04_MOE_VC28': 'e_unempl_rate_males_moe',\n",
    "                   'HC04_EST_VC29': 'e_unempl_rate_females_est',\n",
    "                   'HC04_MOE_VC29': 'e_unempl_rate_females_moe'\n",
    "                  }\n",
    "\n",
    "\n",
    "education_list = {'HC02_EST_VC42': 'ed_perc_hs_white_est',\n",
    "                  'HC04_EST_VC42': 'ed_perc_hs_white_male_est',\n",
    "                  'HC06_EST_VC42': 'ed_perc_hs_white_female_est',\n",
    "                  'HC02_EST_VC43': 'ed_perc_ba_white_est',\n",
    "                  'HC04_EST_VC43': 'ed_perc_ba_white_male_est',\n",
    "                  'HC06_EST_VC43': 'ed_perc_ba_white_female_est',\n",
    "                  'HC02_EST_VC46': 'ed_perc_hs_black_est',\n",
    "                  'HC04_EST_VC46': 'ed_perc_hs_black_male_est',\n",
    "                  'HC06_EST_VC46': 'ed_perc_hs_black_female_est',\n",
    "                  'HC02_EST_VC47': 'ed_perc_ba_black_est',\n",
    "                  'HC04_EST_VC47': 'ed_perc_ba_black_male_est',\n",
    "                  'HC06_EST_VC47': 'ed_perc_ba_black_female_est',\n",
    "                  'HC02_EST_VC50': 'ed_perc_hs_native_est',\n",
    "                  'HC04_EST_VC50': 'ed_perc_hs_native_male_est',\n",
    "                  'HC06_EST_VC50': 'ed_perc_hs_native_female_est',\n",
    "                  'HC02_EST_VC51': 'ed_perc_ba_native_est',\n",
    "                  'HC04_EST_VC51': 'ed_perc_ba_native_male_est',\n",
    "                  'HC06_EST_VC51': 'ed_perc_ba_native_female_est',\n",
    "                  'HC02_EST_VC54': 'ed_perc_hs_asian_est',\n",
    "                  'HC04_EST_VC54': 'ed_perc_hs_asian_male_est',\n",
    "                  'HC06_EST_VC54': 'ed_perc_hs_asian_female_est',\n",
    "                  'HC02_EST_VC55': 'ed_perc_ba_asian_est',\n",
    "                  'HC04_EST_VC55': 'ed_perc_ba_asian_male_est',\n",
    "                  'HC06_EST_VC55': 'ed_perc_ba_asian_female_est',\n",
    "                  'HC02_EST_VC58': 'ed_perc_hs_islander_est',\n",
    "                  'HC04_EST_VC58': 'ed_perc_hs_islander_male_est',\n",
    "                  'HC06_EST_VC58': 'ed_perc_hs_islander_female_est',\n",
    "                  'HC02_EST_VC59': 'ed_perc_ba_islander_est',\n",
    "                  'HC04_EST_VC59': 'ed_perc_ba_islander_male_est',\n",
    "                  'HC06_EST_VC59': 'ed_perc_ba_islander_female_est',\n",
    "                  'HC02_EST_VC62': 'ed_perc_hs_other_race_est',\n",
    "                  'HC04_EST_VC62': 'ed_perc_hs_other_race_male_est',\n",
    "                  'HC06_EST_VC62': 'ed_perc_hs_other_race_female_est',\n",
    "                  'HC02_EST_VC63': 'ed_perc_ba_other_race_est',\n",
    "                  'HC04_EST_VC63': 'ed_perc_ba_other_race_male_est',\n",
    "                  'HC06_EST_VC63': 'ed_perc_ba_other_race_female_est',\n",
    "                  'HC02_EST_VC70': 'ed_perc_hs_hispanic_est',\n",
    "                  'HC04_EST_VC70': 'ed_perc_hs_hispanic_male_est',\n",
    "                  'HC06_EST_VC70': 'ed_perc_hs_hispanic_female_est',\n",
    "                  'HC02_EST_VC71': 'ed_perc_ba_hispanic_est',\n",
    "                  'HC04_EST_VC71': 'ed_perc_ba_hispanic_male_est',\n",
    "                  'HC06_EST_VC71': 'ed_perc_ba_hispanic_female_est'\n",
    "                 }"
   ]
  },
  {
   "cell_type": "markdown",
   "metadata": {
    "_uuid": "8f8cf8f8478d086fa86f348e5d6eef56d970e881"
   },
   "source": [
    "You can tell I love the dictionaries, can't you?\n",
    "\n",
    "Moving on, the next function (with 2 helpers), is preparing a unique DataFrame. The reason this is done (effectively) column by column is that not every column is necessarily present in the imported data. We thus sacrify some speed for more flexibility."
   ]
  },
  {
   "cell_type": "code",
   "execution_count": null,
   "metadata": {
    "_uuid": "a5a34f95f93d5786da166e1201f462ac46d2fa55"
   },
   "outputs": [],
   "source": [
    "def _add_ACS_column(data, column, output):\n",
    "    try:\n",
    "        to_add = data[['GEO.id', 'GEO.id2', 'GEO.display-label', column]].copy()\n",
    "        output = pd.merge(output, to_add, on=['GEO.id', 'GEO.id2', 'GEO.display-label'])\n",
    "    except KeyError:\n",
    "        pass\n",
    "    return output\n",
    "\n",
    "\n",
    "def _add_ACS_topic(data, output, col_list):\n",
    "    data = data.rename(columns=col_list)\n",
    "    col_list = list(col_list.values())\n",
    "    for col in col_list:\n",
    "        output = _add_ACS_column(data, col, output)\n",
    "    return output\n",
    "\n",
    "\n",
    "def prepare_ACS(dept):\n",
    "    \"\"\"\n",
    "    This function merges together the chosen columns for all the topics in the census data\n",
    "    \"\"\"\n",
    "    topics = [topic for topic in list(dept.keys()) if '_meta' not in topic \n",
    "              and 'police' not in topic and 'shapefile' not in topic \n",
    "              and 'education-attainment-over-25' not in topic]  # it is redundant\n",
    "    \n",
    "    switcher = {  # this is because python is cool by I still miss a switch statement\n",
    "        'poverty': poverty_list,\n",
    "        'poverty-status': poverty_list,\n",
    "        'owner-occupied-housing': housing_list,\n",
    "        'race-sex-age': race_list,\n",
    "        'race-age-sex': race_list,\n",
    "        'income': income_list,\n",
    "        'education-attainment': education_list,\n",
    "        'employment': employment_list\n",
    "        }\n",
    "    \n",
    "    output = dept['education-attainment'][['GEO.id', 'GEO.id2', 'GEO.display-label']].copy()\n",
    "    size = 0\n",
    "    \n",
    "    for topic in topics:\n",
    "        col_list = switcher.get(topic)\n",
    "        size += len(col_list.keys())\n",
    "        output = _add_ACS_topic(dept[topic], output, col_list)\n",
    "        \n",
    "    print(f\"Expected size of the output: {size} columns\")\n",
    "    print(f\"Available data: {output.shape}\")\n",
    "    return output"
   ]
  },
  {
   "cell_type": "code",
   "execution_count": null,
   "metadata": {
    "_uuid": "bb5cd2c2b8e28839d34e366864ff7329b2955282"
   },
   "outputs": [],
   "source": [
    "df = prepare_ACS(dept) # it was imported above\n",
    "df.head(3)"
   ]
  },
  {
   "cell_type": "markdown",
   "metadata": {
    "_uuid": "1179a2c0c07fdaa624e85292a0e79a2202baa4d6"
   },
   "source": [
    "As we see, not everything we wanted is then available. We have to live with that, I guess.\n",
    "\n",
    "The next step is to quickly explore what we have created. This is done by the following set of functions (wrapped by `summarize_ACS()`)."
   ]
  },
  {
   "cell_type": "code",
   "execution_count": null,
   "metadata": {
    "_uuid": "273fc1fd8a63817433235e14a62548ba144498cf"
   },
   "outputs": [],
   "source": [
    "def _wavg(data, column, weight):\n",
    "    return np.average(data[column], weights=data[weight])\n",
    "\n",
    "\n",
    "def _print_stats(data, col_list, total='total_population'):\n",
    "    try:\n",
    "        tmp = data[[total] + col_list].fillna(0)\n",
    "        for col in col_list:\n",
    "            print('{}: {}'.format(col, round(_wavg(tmp, col, total),3)))\n",
    "    except KeyError:\n",
    "        print('Total population unavailable, the means are not weighted')\n",
    "        tmp = data[col_list].fillna(0)\n",
    "        for col in col_list:\n",
    "            print('{}:{}'.format(col, round(tmp[col].mean(),3)))\n",
    "\n",
    "            \n",
    "def _print_perc(data, col_list):\n",
    "    for col in col_list:\n",
    "        min_perc = data[col].min()\n",
    "        med_perc = data[col].median()\n",
    "        max_perc = data[col].max()\n",
    "        print(col)\n",
    "        print(f'\\t Min: {min_perc}')\n",
    "        print(f'\\t Median: {med_perc}')\n",
    "        print(f'\\t Max: {max_perc}')\n",
    "\n",
    "\n",
    "def overview_ACS(data):\n",
    "    tot_pop = data[[col for col in data.columns if col.startswith('total_')]].sum()\n",
    "    tot_pop = round(tot_pop / tot_pop[0] * 100, 2)\n",
    "    print(tot_pop)\n",
    "    print(\"_\"*40)\n",
    "\n",
    "    race_perc = [col for col in data.columns if col.startswith('perc_')]\n",
    "    _print_perc(data, race_perc)\n",
    "\n",
    "\n",
    "def unemployment_ACS(data):\n",
    "    unemp_cols = [col for col in data.columns if 'e_unemp' in col and '_est' in col]\n",
    "    _print_stats(data, unemp_cols)\n",
    "            \n",
    "\n",
    "def poverty_ACS(data):\n",
    "    pov_cols = [col for col in data.columns if 'below_pov_perc_est' in col]\n",
    "    _print_stats(data, pov_cols)\n",
    "    print(\"_\"*40)\n",
    "    _print_perc(data, pov_cols)\n",
    "\n",
    "\n",
    "def income_ACS(data):\n",
    "    inc_cols = [col for col in data.columns if 'median_income' in col and '_est' in col]\n",
    "    mean_inc = round(data[inc_cols].mean(),1)\n",
    "    max_inc = round(data[inc_cols].max(), 1)\n",
    "    min_inc = round(data[inc_cols].min(), 1)\n",
    "    print('Mean of medians: ' + '-'*10)\n",
    "    print(mean_inc)\n",
    "    print('Max of medians: ' + '-'*10)\n",
    "    print(max_inc)\n",
    "    print('Min of medians: ' + '-'*10)\n",
    "    print(min_inc)\n",
    "    \n",
    "    \n",
    "def education_ACS(data):\n",
    "    ed_cols = [col for col in data.columns if 'ed_perc_' in col and\n",
    "               'male' not in col and 'female' not in col]\n",
    "    _print_perc(data, ed_cols)\n",
    "        \n",
    "\n",
    "def summarize_ACS(data):\n",
    "    print(\"Population overview (estimated totals)\")\n",
    "    overview_ACS(data)\n",
    "    print('\\n')\n",
    "    \n",
    "    print(\"Unemployment rate (weighted averages)\")\n",
    "    unemployment_ACS(data)\n",
    "    print('\\n')\n",
    "    \n",
    "    print('Below poverty level (weighted averages)')\n",
    "    poverty_ACS(data)\n",
    "    print('\\n')\n",
    "    \n",
    "    print('Median income (means and ranges)')\n",
    "    income_ACS(data)\n",
    "    print('\\n')\n",
    "    \n",
    "    print('Education (estimated percentages)')\n",
    "    education_ACS(data)\n",
    "    print('\\n')"
   ]
  },
  {
   "cell_type": "code",
   "execution_count": null,
   "metadata": {
    "_uuid": "e2e48cfb14137f91cbd9e69109b045ef56eff3c6",
    "scrolled": false
   },
   "outputs": [],
   "source": [
    "summarize_ACS(df)"
   ]
  },
  {
   "cell_type": "markdown",
   "metadata": {
    "_uuid": "37d8b8da4ca287af37fe1aa99ae8655f0ba5b0c6"
   },
   "source": [
    "In seconds we know that in this department 60% of the population is white, but there are places where the percentage of black people is 98% and the Hispanic ethnicity is very present. We also see that black people have a higher unemployment rate and more of them are below the poverty level. At last, the access to higher education looks unevenly distributed across races.\n",
    "\n",
    "Naturally, this is a very superficial analysis but in my mind this is what you do the first time you open a file. Moreover, it is not hard to extend this quick report with more accurate analysis with automatic tests of statistical significance and graphs. All that being said, the main (and, let's face it, the only) merit of this approach is that it is very flexible across the departments and a simple loop on what I called `dept_list` can give you insights about what department is really lacking information (its output would be much shorter).\n",
    "\n",
    "# Police data\n",
    "\n",
    "The main data source for this problem is coming from this data and it is time to adopt the same approach, aimed towards speed and flexibility, to have a first look "
   ]
  },
  {
   "cell_type": "code",
   "execution_count": null,
   "metadata": {
    "_uuid": "82f7da010ec164c8bff5a86549e904e1890ce953"
   },
   "outputs": [],
   "source": [
    "def _drop_columns(feats, additional=None):\n",
    "    \"\"\"\n",
    "    This function takes a list of features and removes DETAILS and ID.\n",
    "    The user can provide an additional list to remove more features\n",
    "    \"\"\"\n",
    "    to_drop = ['DETAILS', 'ID']\n",
    "    if additional:\n",
    "        to_drop = to_drop + additional\n",
    "    feats = [feat for feat in feats if feat not in to_drop]\n",
    "    return feats       \n",
    "\n",
    "\n",
    "def _get_columns(data):\n",
    "    \"\"\"\n",
    "    This helper finds the columns regarding subjects and officers.\n",
    "    The prefix SUBJECT_ and OFFICER_ are removed.\n",
    "    It returns a list of columns regarding subjects, one regarding officers\n",
    "    and one with their intersection\n",
    "    \"\"\"\n",
    "    subj = [col.replace('SUBJECT_', '') for col in data.columns if 'SUBJECT' in col]\n",
    "    off = [col.replace('OFFICER_', '') for col in data.columns if 'OFFICER' in col]\n",
    "    conf = list(set(subj).intersection(off))\n",
    "    conf = _drop_columns(conf)\n",
    "    return subj, off, conf\n",
    "\n",
    "\n",
    "def subj_v_off(data, conf):\n",
    "    \"\"\"\n",
    "    This function takes the data and a list of columns describing both subjects and columns\n",
    "    Accordingly to the nature of the columns, it produces side by side plots and prints some \n",
    "    descriptive statistics (count, crosstabs)\n",
    "    \"\"\"\n",
    "    num = len(conf)\n",
    "    # 2 plots side by side for each category\n",
    "    fig, ax = plt.subplots(num,2, figsize=(15,5*num))\n",
    "    i = 0\n",
    "    for feat in conf:\n",
    "        off = 'OFFICER_' + feat\n",
    "        subj = 'SUBJECT_' + feat\n",
    "        print(feat)\n",
    "        if feat in ['GENDER', 'RACE', 'HOSPITALIZATION', 'INJURY', 'INJURY_TYPE']:\n",
    "            print('Officers: ' + '-'*40)\n",
    "            print(data[off].value_counts(dropna=False, normalize=True).head(10))\n",
    "            \n",
    "            print(\"Subjects: \" + '-'*40)\n",
    "            print(data[subj].value_counts(dropna=False, normalize=True).head(10))\n",
    "            \n",
    "            if (len(data[subj].unique()) > 10 or len(data[off].unique()) > 5):\n",
    "                print(\"Too many unique values, crosstab not printed\")\n",
    "            else:\n",
    "                print(\"Crosstab: \" + '-'*40)\n",
    "                print(pd.crosstab(data[subj], data[off], \n",
    "                                  dropna=False, margins=True))\n",
    "                print(pd.crosstab(data[subj], data[off], \n",
    "                                  dropna=False, normalize=True, margins=True))\n",
    "            print(\"_\"*40)\n",
    "            print(\"\\n\")\n",
    "            if num == 1: # dirty escape for poor usage of subplots\n",
    "                sns.countplot(x=off, data=data, ax=ax[0], \n",
    "                              order=data[off].value_counts().iloc[:5].index) # plot only top 5 \n",
    "                sns.countplot(x=subj, data=data, ax=ax[1], \n",
    "                              order=data[subj].value_counts().iloc[:5].index)\n",
    "            else:\n",
    "                sns.countplot(x=off, data=data, ax=ax[i][0], \n",
    "                              order=data[off].value_counts().iloc[:5].index)\n",
    "                sns.countplot(x=subj, data=data, ax=ax[i][1], \n",
    "                              order=data[subj].value_counts().iloc[:5].index)\n",
    "                i = i + 1\n",
    "                \n",
    "        elif feat in ['AGE']:\n",
    "            print('Officers: ' + '-'*40)\n",
    "            print(f\"\\t- mean: {data[off].mean()}\")\n",
    "            print(f\"\\t- median: {data[off].median()}\")\n",
    "            print(f\"\\t- range: {data[off].min()}--{data[off].max()}\")\n",
    "            print(f\"\\t- std: {data[off].std()}\")\n",
    "            \n",
    "            print('Subjects: ' + '-'*40)\n",
    "            print(f\"\\t- mean: {data[subj].mean()}\")\n",
    "            print(f\"\\t- median: {data[subj].median()}\")\n",
    "            print(f\"\\t- range: {data[subj].min()}--{data[subj].max()}\")\n",
    "            print(f\"\\t- std: {data[subj].std()}\")\n",
    "            print(\"_\"*40)\n",
    "            print(\"\\n\")\n",
    "            if num == 1:\n",
    "                sns.distplot(data[off].dropna(), bins = 30, ax=ax[0])\n",
    "                sns.distplot(data[subj].dropna(), bins = 30, ax=ax[1])\n",
    "            else:\n",
    "                sns.distplot(data[off].dropna(), bins = 30, ax=ax[i][0])\n",
    "                sns.distplot(data[subj].dropna(), bins = 30, ax=ax[i][1])\n",
    "                i = i + 1\n",
    "\n",
    "\n",
    "def _cross_cat_cont(data, cont, cat, title=None):\n",
    "    \"\"\"\n",
    "    This function plots a histogram of a continuous variable by segmenting it\n",
    "    according to a categorical variable\n",
    "    \"\"\"\n",
    "    g = sns.FacetGrid(data, hue=cat, height= 5)\n",
    "    g.map(plt.hist, cont, alpha= 0.3, bins=30)\n",
    "    g.add_legend()\n",
    "    if title:\n",
    "        plt.title(title)\n",
    "        \n",
    "\n",
    "def _experience_segm(data, segment, col=None):\n",
    "    \"\"\"\n",
    "    This function plots the officers year on force, segmented by 2 categories (if provided)\n",
    "    \"\"\"\n",
    "    g = sns.FacetGrid(data, col=col, hue=segment, height= 5)\n",
    "    g.map(plt.hist, 'OFFICER_YEARS_ON_FORCE', alpha= 0.3, bins=30)\n",
    "    g.add_legend()\n",
    "    \n",
    "\n",
    "def individuals(data, feats, role='SUBJECT'):\n",
    "    \"\"\"\n",
    "    Prints and plots a summary of the features regarding subjects and officers\n",
    "    The output depends on what is available\n",
    "    \"\"\"\n",
    "    condition = all(x in feats for x in ['AGE', 'RACE'])\n",
    "    if condition:\n",
    "        _cross_cat_cont(data, role + '_AGE', role + '_RACE')\n",
    "    \n",
    "    condition = all(x in feats for x in ['AGE', 'GENDER'])\n",
    "    if condition:\n",
    "        _cross_cat_cont(data, role + '_AGE', role + '_GENDER')\n",
    "    \n",
    "    condition = all(x in feats for x in ['RACE', 'WAS_ARRESTED'])\n",
    "    if condition:\n",
    "        print(pd.crosstab(data[role + '_RACE'], data[role + '_WAS_ARRESTED'], \n",
    "                                  dropna=False, normalize='index', margins=True))\n",
    "        print(\"_\"*40)\n",
    "        print('\\n')\n",
    "        \n",
    "    condition = all(x in feats for x in ['RACE', 'INJURY'])\n",
    "    if condition:\n",
    "        print(pd.crosstab(data[role + '_RACE'], data[role + '_INJURY'], \n",
    "                                  dropna=False, normalize='index', margins=True))\n",
    "        print(\"_\"*40)\n",
    "        print('\\n')\n",
    "        \n",
    "    condition = all(x in feats for x in ['RACE', 'HOSPITALIZATION'])\n",
    "    if condition:\n",
    "        print(pd.crosstab(data[role + '_RACE'], data[role + '_HOSPITALIZATION'], \n",
    "                                  dropna=False, normalize='index', margins=True))\n",
    "        print(\"_\"*40)\n",
    "        print('\\n')\n",
    "        \n",
    "    condition = all(x in feats for x in ['YEARS_ON_FORCE', 'INJURY'])\n",
    "    if condition:\n",
    "        _cross_cat_cont(data, role + '_YEARS_ON_FORCE', role + '_INJURY')\n",
    "    \n",
    "    condition = all(x in feats for x in ['YEARS_ON_FORCE'])\n",
    "    if condition:\n",
    "        try:\n",
    "            _experience_segm(data, 'SUBJECT_RACE', col='SUBJECT_INJURY')\n",
    "        except KeyError:\n",
    "            _cross_cat_cont(data, role + '_YEARS_ON_FORCE', 'SUBJECT_RACE')\n",
    "        try:\n",
    "            _experience_segm(data, 'SUBJECT_GENDER', col='SUBJECT_INJURY')\n",
    "        except KeyError:\n",
    "            _cross_cat_cont(data, role + '_YEARS_ON_FORCE', 'SUBJECT_GENDER')\n",
    "        \n",
    "            \n",
    "def explore_police(data):\n",
    "    \"\"\"\n",
    "    Wrapper for the functions above, calls the appropriate function given \n",
    "    what is available\n",
    "    \"\"\"\n",
    "    subj, off, conf = _get_columns(data)\n",
    "    if len(subj) > 0:\n",
    "        try:\n",
    "            individuals(data, subj, 'SUBJECT')\n",
    "        except Exception as e:\n",
    "            print(\"Something went wrong in exploring the subjects\")\n",
    "            print(e)\n",
    "            pass\n",
    "    if len(off) > 0:\n",
    "        try:\n",
    "            individuals(data, off, 'OFFICER')\n",
    "        except Exception as e:\n",
    "            print(\"Something went wrong in exploring the officers\")\n",
    "            print(e)\n",
    "            pass\n",
    "    if len(conf) > 0:\n",
    "        try:\n",
    "            subj_v_off(data, conf)\n",
    "        except Exception as e:\n",
    "            print(\"Something went wrong in comparing subjects and officers\")\n",
    "            print(e)\n",
    "            pass\n",
    "    print(f\"Subject related variables found: {subj}\")\n",
    "    print(f\"Officer related variables found: {off}\")"
   ]
  },
  {
   "cell_type": "code",
   "execution_count": null,
   "metadata": {
    "_uuid": "19dc58947e7d23ac880b3380364944a5a697064d",
    "scrolled": false
   },
   "outputs": [],
   "source": [
    "pol_df = dept['police_1'].copy()\n",
    "explore_police(pol_df)"
   ]
  },
  {
   "cell_type": "markdown",
   "metadata": {
    "_uuid": "9ab77e7c8850209492cda545d4e4a3bd3e2f843d"
   },
   "source": [
    "Again, this is very basic and superficial but within seconds we can extract every available information (among the ones that were preselected) about the use of force in this department. We see that the majority of the subjects were black in a population that is predominantly white (as represented by the race of the officers, fairly in line with the 60% we know from the census data). We can see that the police officer is a male-dominated profession. \n",
    "\n",
    "We also see that most of the times there is no injury (either for the subjects or the officers) but when the injury occurs is most likely to happen to the subject rather than to the officer and that white subjects have an injury rate above average. It would be interesting to investigate the nature of this cases.\n",
    "\n",
    "This is the spirit that led me to the creation of these summaries: simplify the overwhelming quantity and variety of data in order to start a more serious investigation. This is why **it would be a mistake to stop here and come to any sort of conclusion**.\n",
    "\n",
    "Most of the files containing data regarding police actions also have a column that regards a district. For reasons that will be clear later, it is interesting to summarize the police data by district. So it is time for a new function. I will focus on summarizing race, gender, injuries, and consequences because the nature of the entries makes them easy to pass through this process automatically"
   ]
  },
  {
   "cell_type": "code",
   "execution_count": null,
   "metadata": {
    "_uuid": "8ed22f54ec19eefc481eabc90679143c95ed887e"
   },
   "outputs": [],
   "source": [
    "col_list = ['SUBJECT_RACE', 'SUBJECT_GENDER', 'SUBJECT_INJURY', 'OFFICER_INJURY', \n",
    "            'SUBJECT_WAS_ARRESTED', 'SUBJECT_HOSPITALIZATION']\n",
    "\n",
    "\n",
    "def _summary_cleanup(data, distr_col):\n",
    "    \"\"\"\n",
    "    Keep only the columns selected above (plus the district)\n",
    "    \"\"\"\n",
    "    feats = [distr_col] + [col for col in data.columns if col in col_list]\n",
    "    return data[feats]\n",
    "\n",
    "\n",
    "def police_by_distr(data, distr_col):\n",
    "    \"\"\"\n",
    "    The police data are reduced to the one selected above\n",
    "    and summarized according to the distr_col column.\n",
    "    \n",
    "    Returns a datafram with the aggregated data.\n",
    "    \"\"\"\n",
    "    data = _summary_cleanup(data, distr_col)\n",
    "    \n",
    "    try:\n",
    "        tot_df = data[[distr_col, data.columns[-1]]].groupby(distr_col, as_index=False).count()\n",
    "        tot_df.columns = [distr_col, 'total_records']\n",
    "    except ValueError:\n",
    "        print(\"Insufficient data to aggregate\")\n",
    "        return data.head()\n",
    "    sum_cols = [col for col in data.columns if\n",
    "                ('RACE' not in col) and ('GENDER' not in col)]\n",
    "    sum_df = data[sum_cols].groupby(distr_col, as_index=False).agg('sum')\n",
    "    summary = pd.merge(tot_df, sum_df)\n",
    "    \n",
    "    if 'SUBJECT_RACE' in data.columns:\n",
    "        race = data.groupby([distr_col, 'SUBJECT_RACE']).size().unstack().reset_index().fillna(0)\n",
    "        summary = pd.merge(summary, race, on=distr_col)\n",
    "        \n",
    "    if 'SUBJECT_GENDER' in data.columns:\n",
    "        gender = data.groupby([distr_col, 'SUBJECT_GENDER']).size().unstack().reset_index().fillna(0)\n",
    "        summary = pd.merge(summary, gender, on=distr_col)\n",
    "    \n",
    "    return summary"
   ]
  },
  {
   "cell_type": "markdown",
   "metadata": {
    "_uuid": "3e24277937f83346381ba0ba08f4b44d06ce7cfb"
   },
   "source": [
    "Since in this particular district the injuries are coded with Yes/No, I need to do a little of processing first. "
   ]
  },
  {
   "cell_type": "code",
   "execution_count": null,
   "metadata": {
    "_uuid": "33dd7ed16930e4a5bac6af1cd509297350e20844"
   },
   "outputs": [],
   "source": [
    "conversion = {'Yes': 1, 'No': 0}\n",
    "\n",
    "pol_df.SUBJECT_INJURY = pol_df.SUBJECT_INJURY.map(conversion)\n",
    "pol_df.OFFICER_INJURY = pol_df.OFFICER_INJURY.map(conversion)\n",
    "pol_df.SUBJECT_WAS_ARRESTED = pol_df.SUBJECT_WAS_ARRESTED.map(conversion)"
   ]
  },
  {
   "cell_type": "code",
   "execution_count": null,
   "metadata": {
    "_uuid": "ae0938a171a57162724d69bb0844dd0ab9608dbb"
   },
   "outputs": [],
   "source": [
    "police_by_distr(pol_df, 'LOCATION_DISTRICT')"
   ]
  },
  {
   "cell_type": "markdown",
   "metadata": {
    "_uuid": "1096f7f31902d93e3afecb300a615f5ac4d017da"
   },
   "source": [
    "This result will be useful once that we will do the same kind of aggregation on the census data. For now, we can only see that there are districts with more records than others, that the subject injury rate is more or less constant across the departments while the officer's one has some interesting cases where it is much lower. \n",
    "\n",
    "In some districts it may look like the race is playing a role but, since we don't have any information about the population of those districts yet, it is a merely descriptive result.\n",
    "\n",
    "Now, how do we link this result to the census data explored above? While we have some geographical Id on the census data, we don't have a way to link it to a specific location. \n",
    "\n",
    "The strategy is to use shapefiles associated with census data, which can be found at https://www.census.gov/geo/maps-data/data/cbf/cbf_tracts.html, and use it to link it to the police data. We can do so in various ways:\n",
    "\n",
    "* If we have the address, one can use the Google API to get the coordinates (if not the district name directly)\n",
    "* If we have the coordinates, one can automatically check if they fall inside a specific location (labeled with the geographical Id of the census data)\n",
    "* Or we can use the provided shapefiles, intersect them with the census one, get the district names and aggregate to finally put all our data in one table.\n",
    "\n",
    "In this particular case, we have coordinates and address, but it is fairly an anomaly. In the case study below we will explore how to implement the third option with yet another attempt to automating the process.\n",
    "\n",
    "But for now we move on to the third source of data.\n",
    "\n",
    "# Shapefiles\n",
    "\n",
    "Some preliminary exploration of the shapefiles comes with the quality check and the import. Thus we already know that some department have all we need: 3 mandatory files (`['.shp', '.shx', '.dbf']`) and the equally useful `'.prj'`. The first three are necessary to make the gelocalization api of choice work but the last one is the one that tells us the coordinate system of the shapefile, without it we will have difficulties in plotting something on top of our map.\n",
    "\n",
    "Let's see what columns we have in these shapefiles with a simple routine similar to the one above (yes, the function `list_all_files` is something I like as much as the python dictionaries)"
   ]
  },
  {
   "cell_type": "code",
   "execution_count": null,
   "metadata": {
    "_uuid": "8ced3dea2b2c0e44a4ddc1faacfbbc4aedd9c58a"
   },
   "outputs": [],
   "source": [
    "shapes = list_all_files(location='../input/data-science-for-good/cpe-data/',pattern='.shp')\n",
    "shapes = [file for file in shapes if file.endswith('.shp')]\n",
    "shapes"
   ]
  },
  {
   "cell_type": "code",
   "execution_count": null,
   "metadata": {
    "_uuid": "e5f5c5667b83d255e350f3c0f9a0677ab719d3b2",
    "scrolled": true
   },
   "outputs": [],
   "source": [
    "for file in shapes[:3]: # printing them all would be horrible to see\n",
    "    print(file)\n",
    "    sh = gp.read_file(file)\n",
    "    print(sh.columns)\n",
    "    print(\"\\n\")"
   ]
  },
  {
   "cell_type": "markdown",
   "metadata": {
    "_uuid": "959b922721678ea80c8ea016d7058eef7c0ef4da"
   },
   "source": [
    "We see that we have always the column `geometry`, which contains the polygons or the points for the shape, something about districts or zones (can be called `name`, `district`, `precint`, or variations of this). In particular, the random one we have already imported si one of the simplest among the available."
   ]
  },
  {
   "cell_type": "code",
   "execution_count": null,
   "metadata": {
    "_uuid": "ed8c6ee17fd673f565b3b580b8ce78d2de7ad235"
   },
   "outputs": [],
   "source": [
    "dept['shapefile_1']"
   ]
  },
  {
   "cell_type": "markdown",
   "metadata": {
    "_uuid": "8af53135ec5c39dd6d8949fb638cce22cdf2554a"
   },
   "source": [
    "We can even plot it."
   ]
  },
  {
   "cell_type": "code",
   "execution_count": null,
   "metadata": {
    "_uuid": "dd9be3352600a55148647a374c3836db6278c59b"
   },
   "outputs": [],
   "source": [
    "dept['shapefile_1'].plot(column='Name')"
   ]
  },
  {
   "cell_type": "markdown",
   "metadata": {
    "_uuid": "b956fe1ce6bf69c65a59903db500cccec59fdab7"
   },
   "source": [
    "As mentioned before, the police data for the city of Dallas, TX contains longitude and latitude for almost every event. If we are interested in knowing if different districts behave differently, we could overlap these coordinates with the shapefile provided by the organizers. There is no way I can do it better than Pavan Kumar Kulkarni and I won't try to top that excellent kernel that I invite you to read (https://www.kaggle.com/pavankumarkulkarni/measure-of-justice-comprehensive-framework).\n",
    "\n",
    "What I want to do instead is to combine it with the census data. Having the coordinates, the combination of the two sources will be as granular as possible, i.e. any other case will require a higher level of aggregation (with the approximation that comes with that).\n",
    "\n",
    "As an external source, I put the shapes provided by the census website.\n"
   ]
  },
  {
   "cell_type": "code",
   "execution_count": null,
   "metadata": {
    "_uuid": "7dd0a355ab6adbe3905e042791daa2fa067c6f91"
   },
   "outputs": [],
   "source": [
    "ref_id = gp.read_file('../input/texas-shape/cb_2015_48_tract_500k.shp')\n",
    "ref_id.to_crs({'init': 'epsg:32118'},inplace=True) # because meters are better\n",
    "ref_id = ref_id[['GEOID', 'geometry']].copy()\n",
    "ref_id.rename(columns={'GEOID' : 'GEO.id2'}, inplace=True)\n",
    "ref_id['GEO.id2'] = pd.to_numeric(ref_id['GEO.id2'])\n",
    "ref_id.head()"
   ]
  },
  {
   "cell_type": "markdown",
   "metadata": {
    "_uuid": "0ce2fa74dd499f2f801f036f6e886ed1155dead5"
   },
   "source": [
    "Now we have all the shapes of Texas"
   ]
  },
  {
   "cell_type": "code",
   "execution_count": null,
   "metadata": {
    "_uuid": "5036fbed6ff20c51e128836aaf870651722a85f8"
   },
   "outputs": [],
   "source": [
    "ref_id.plot()"
   ]
  },
  {
   "cell_type": "markdown",
   "metadata": {
    "_uuid": "74307c178cfcb8abec0a74bbea95c932c04b28ab"
   },
   "source": [
    "We can then get all the shapes of Dallas"
   ]
  },
  {
   "cell_type": "code",
   "execution_count": null,
   "metadata": {
    "_uuid": "b0f8ce3e7baa3dbd351a2a242fe2623a8e3501a0"
   },
   "outputs": [],
   "source": [
    "dallas_sh = ref_id[ref_id['GEO.id2'].isin(df['GEO.id2'])]\n",
    "dallas_sh.plot()"
   ]
  },
  {
   "cell_type": "markdown",
   "metadata": {
    "_uuid": "bab70b810af933c5b09613f0f70c90d98978dcd8"
   },
   "source": [
    "With the police data, we can find all the locations we need"
   ]
  },
  {
   "cell_type": "code",
   "execution_count": null,
   "metadata": {
    "_uuid": "cd8c8b8e664e2fc46768a5633faa788b996f6399"
   },
   "outputs": [],
   "source": [
    "pol_sh = pol_df.dropna(subset = ['LOCATION_LONGITUDE','LOCATION_LATITUDE']).copy()\n",
    "pol_sh['geometry'] = list(zip(pol_sh['LOCATION_LONGITUDE'],pol_sh['LOCATION_LATITUDE']))\n",
    "pol_sh['geometry'] = pol_sh['geometry'].apply(Point)\n",
    "pol_sh = gp.GeoDataFrame(pol_sh, geometry = 'geometry',\n",
    "                         crs ={'init': 'epsg:4326'} )\n",
    "pol_sh.to_crs({'init': 'epsg:32118'},inplace = True)\n",
    "\n",
    "pol_sh = pol_sh.dropna(subset = ['geometry'])\n",
    "\n",
    "pol_sh.plot()"
   ]
  },
  {
   "cell_type": "markdown",
   "metadata": {
    "_uuid": "c6cef4532126ae4c6b7509d58a397c99f751fb1c"
   },
   "source": [
    "There are problems with packages and dependencies when I try to run my code on Kaggle. Thus, I propose here a dirty workaround, something that works but it is slow and  disgraceful"
   ]
  },
  {
   "cell_type": "code",
   "execution_count": null,
   "metadata": {
    "_uuid": "81d18ef1e11af804c7943f947c54ef65c5ceee4d"
   },
   "outputs": [],
   "source": [
    "def find_geoid(city, pol):\n",
    "    geoids = []\n",
    "    for point in pol.geometry:\n",
    "        try:\n",
    "            geoids.append(city[city.geometry.contains(point)]['GEO.id2'].values[0])\n",
    "        except IndexError:\n",
    "            geoids.append(np.nan)\n",
    "    return geoids"
   ]
  },
  {
   "cell_type": "code",
   "execution_count": null,
   "metadata": {
    "_uuid": "a27db356b374b0fe81ecc7b11d0dbf684538ce06"
   },
   "outputs": [],
   "source": [
    "pol_sh['GEO.id2'] = find_geoid(dallas_sh, pol_sh)\n",
    "pol_sh.head()"
   ]
  },
  {
   "cell_type": "markdown",
   "metadata": {
    "_uuid": "392ef865027da30ed9db886e24e181bb3ea8637d"
   },
   "source": [
    "And now we have all we wanted: geographic id's on the police data, ready to be merged with the census data for a more in-depth analysis. Moreover, a further overlap with the district shapefile is still possible (and it will be done in the case study below)\n",
    "\n",
    "As said before, this is a very benevolent case because the coordinates are not always provided. To see what happens in a more common case, let's have a look at Indianapolis for our case study.\n",
    "\n",
    "# Case study - Marion County, Indiana\n",
    "\n",
    "Here I pick a department that can give us enough to have a taste of most of the functionalities here presented, while still having some obstacles that will give us the chance of seeing how much effort is required to overcome them.\n",
    "\n",
    "Let's start with the import."
   ]
  },
  {
   "cell_type": "code",
   "execution_count": null,
   "metadata": {
    "_uuid": "43087450b57c9ee63bb607dbf2171459644a12c8"
   },
   "outputs": [],
   "source": [
    "dept = import_dept(dept_list[0])\n",
    "dept.keys()"
   ]
  },
  {
   "cell_type": "markdown",
   "metadata": {
    "_uuid": "5406e3e2c8293a0a49268f1e14ba8de237ccb184"
   },
   "source": [
    "We see that in some cases we drop quite a lot of columns, there is not much we can do about it.\n",
    "\n",
    "Running `explore_police` now leads to catching some exceptions and the reason is that there is a typo in the columns. I fix it before moving forward"
   ]
  },
  {
   "cell_type": "code",
   "execution_count": null,
   "metadata": {
    "_uuid": "dbcfca05023d6753e60671ddcae754ad295f4718",
    "scrolled": false
   },
   "outputs": [],
   "source": [
    "pol_df = dept['police_1'].copy()\n",
    "pol_df.rename(columns={'SUBJECT_RACT' : 'SUBJECT_RACE'}, inplace=True)\n",
    "explore_police(pol_df)"
   ]
  },
  {
   "cell_type": "markdown",
   "metadata": {
    "_uuid": "f9c88c037e3dbdf9fc573eeef5577f6883c45ef9"
   },
   "source": [
    "Let's quickly summarize this first result:\n",
    "\n",
    "* The arrest rate looks fairly constant across races. There are a few exceptions but, looking at the count plot for the subject race, those races are very little represented in our data.\n",
    "* Injury and hospitalization rates are again skewed towards the subjects, which makes sense due to the fact that officers are trained to first protect themselves. As before, white subjects have a higher injury rate than the average and this is also observed in the hospitalization rate. We don't have information about the injury types from this summary and it will require manual inspection.\n",
    "* There are some errors in the ages of subjects and officers because 2 years old officers would be silly (although maybe appropriate to chase down 2 years old subjects, I guess)\n",
    "* The officers are overwhelmingly white, while the subjects are mostly black.\n",
    "* Gender-wise, males dominate both the categories.\n",
    "* The age patterns reveals that the distribution is slightly more skewed towards the younger ages for black subjects and for female subjects.\n",
    "* The years of experience of the officers do not seem to matter in terms of how subjects of different races are treated or in terms of injuries.\n",
    "\n",
    "This summary does not cover everything is available (although it could with some more development of the methods), so let's see what else is available."
   ]
  },
  {
   "cell_type": "code",
   "execution_count": null,
   "metadata": {
    "_uuid": "539ef076e58fa21b398e107a694f9e7c717f6f5b"
   },
   "outputs": [],
   "source": [
    "pol_df.columns"
   ]
  },
  {
   "cell_type": "markdown",
   "metadata": {
    "_uuid": "f91f2c5c6394fb14b1848bd4a2a3a63b1b5e267a"
   },
   "source": [
    "The CHARGE column can be very interesting."
   ]
  },
  {
   "cell_type": "code",
   "execution_count": null,
   "metadata": {
    "_uuid": "d93931ed2d04df3c40b3e862d84e84d00f97dbe4"
   },
   "outputs": [],
   "source": [
    "pol_df.CHARGE.value_counts().head()"
   ]
  },
  {
   "cell_type": "markdown",
   "metadata": {
    "_uuid": "289a0785b3ea91590d608a2c2dd9155d46c98867"
   },
   "source": [
    "I wonder why there are 2 Resisting Law Enforcement columns, maybe gender?"
   ]
  },
  {
   "cell_type": "code",
   "execution_count": null,
   "metadata": {
    "_uuid": "7557e79c19cd44474ceade57efad4437d27b48f0"
   },
   "outputs": [],
   "source": [
    "pol_df[pol_df.CHARGE == 'Resisting Law Enforcement (M)'].SUBJECT_GENDER.value_counts()"
   ]
  },
  {
   "cell_type": "markdown",
   "metadata": {
    "_uuid": "b141eebeef13d95728808e93dd4afcb6bf25cfa1"
   },
   "source": [
    "No, it requires more study.\n",
    "\n",
    "We can see that geographically we have expected districts and other values that will probably require recoding"
   ]
  },
  {
   "cell_type": "code",
   "execution_count": null,
   "metadata": {
    "_uuid": "0ae49f7954c22f0e5cb23ab9450645ccfcb1f8f3"
   },
   "outputs": [],
   "source": [
    "pol_df['LOCATION_DISTRICT'].value_counts().head(8)"
   ]
  },
  {
   "cell_type": "markdown",
   "metadata": {
    "_uuid": "b39a9f19aacf845ada1ec205b790879240bfae94"
   },
   "source": [
    "Before moving on, there are some columns that got my curiosity and were not included in the summary. I want to spend some time to have a look at differences in reasons for the use of force and type of use of force across different races"
   ]
  },
  {
   "cell_type": "code",
   "execution_count": null,
   "metadata": {
    "_uuid": "bdde6a3d72d387b8796f7ca8f2e5f90bfe26a662"
   },
   "outputs": [],
   "source": [
    "pol_df['REASON_FOR_FORCE'].value_counts()"
   ]
  },
  {
   "cell_type": "code",
   "execution_count": null,
   "metadata": {
    "_uuid": "9d2797a1f30a072d04c543fd646a27b19f315abc"
   },
   "outputs": [],
   "source": [
    "pd.crosstab(pol_df['SUBJECT_RACE'], pol_df['REASON_FOR_FORCE'])"
   ]
  },
  {
   "cell_type": "code",
   "execution_count": null,
   "metadata": {
    "_uuid": "bb8f193825861d012a358e25a6b4828e2c884042"
   },
   "outputs": [],
   "source": [
    "pd.crosstab(pol_df['SUBJECT_RACE'], pol_df['REASON_FOR_FORCE'], normalize='index', margins=True)"
   ]
  },
  {
   "cell_type": "markdown",
   "metadata": {
    "_uuid": "de183445dcd6576603382fb98d3f672ebfdb3eed"
   },
   "source": [
    "We can't observe any noticeable difference between the reason of force across the races. The main reason is always Resisting Arrest, followed by Non-Compliant and Combative Suspect.\n",
    "\n",
    "To see the type of force used, we need to do some processing"
   ]
  },
  {
   "cell_type": "code",
   "execution_count": null,
   "metadata": {
    "_uuid": "f20ffa899d9fd4fcd22ba696b25226743f9a762b"
   },
   "outputs": [],
   "source": [
    "types_code = ['Physical', 'Lethal', 'Less Lethal']  # the order is sadly crucial or everything is lethal\n",
    "\n",
    "pol_df.TYPE_OF_FORCE_USED = pol_df.TYPE_OF_FORCE_USED.fillna('Other')\n",
    "\n",
    "for code in types_code:\n",
    "    pol_df.loc[pol_df.TYPE_OF_FORCE_USED.str.contains(code), 'TOF_code'] = code\n",
    "\n",
    "pol_df.TOF_code = pol_df.TOF_code.fillna('Other')\n",
    "\n",
    "pol_df.TOF_code.value_counts()"
   ]
  },
  {
   "cell_type": "code",
   "execution_count": null,
   "metadata": {
    "_uuid": "661b722c64a0045add6341747dab0c8af9c16ec0"
   },
   "outputs": [],
   "source": [
    "pd.crosstab(pol_df['SUBJECT_RACE'], pol_df['TOF_code'])"
   ]
  },
  {
   "cell_type": "code",
   "execution_count": null,
   "metadata": {
    "_uuid": "3c6806019319f494efba44bf4719d8eaacf23468"
   },
   "outputs": [],
   "source": [
    "pd.crosstab(pol_df['SUBJECT_RACE'], pol_df['TOF_code'], normalize='columns', margins=True)  \n",
    "# warning, the normalization is across races this time"
   ]
  },
  {
   "cell_type": "markdown",
   "metadata": {
    "_uuid": "cd4980bf4e1a82259057ec5dcb4127394b33d59d"
   },
   "source": [
    "While at a first look there is not any statistically significant difference, it is hard to not notice that of the 18 lethal uses of force, 13 had a black person as a victim. We, unfortunately, do not have further information about the situation that led to these outcomes but we can say that, **while in any other type of force used roughly half of the subjects were black, in the case of lethal use of force 72% is black**. \n",
    "\n",
    "The situation starts looking even worse if we then look at the reason for force, which is mostly *Fleeing*. "
   ]
  },
  {
   "cell_type": "code",
   "execution_count": null,
   "metadata": {
    "_uuid": "2cdb1caea63439c44a04794cf96fb320f1634d98"
   },
   "outputs": [],
   "source": [
    "pd.crosstab(pol_df['REASON_FOR_FORCE'], pol_df['TOF_code'], margins=True)"
   ]
  },
  {
   "cell_type": "markdown",
   "metadata": {
    "_uuid": "3ee815daed8bad30578692af284e126b103f9209"
   },
   "source": [
    "This can include car crashes while attempting an escape. So let's have a look at the not recoded data"
   ]
  },
  {
   "cell_type": "code",
   "execution_count": null,
   "metadata": {
    "_uuid": "7dbaeeee31be424cb8eddff7967fc5fbcd2436b4"
   },
   "outputs": [],
   "source": [
    "pol_df[pol_df.TOF_code == 'Lethal'][['SUBJECT_DETAILS', \"TYPE_OF_FORCE_USED\", \"REASON_FOR_FORCE\", \"CHARGE\",\n",
    "                                     \"SUBJECT_RACE\", 'OFFICER_RACE', 'SUBJECT_AGE', 'OFFICER_YEARS_ON_FORCE']]"
   ]
  },
  {
   "cell_type": "markdown",
   "metadata": {
    "_uuid": "5645fd08d041060fab1c39f918370e4cc6b7625f"
   },
   "source": [
    "Not as many car crashes as I was hoping for (weird sentence, I know). I wish I could say more about these cases, but I have no data to do so.\n",
    "\n",
    "Let's move on to the census data, we can use the functions to put them together and summarize according to the selection above."
   ]
  },
  {
   "cell_type": "code",
   "execution_count": null,
   "metadata": {
    "_uuid": "d9b7235939f0e687322ad5a9598cc2b5d4b59f3b",
    "scrolled": false
   },
   "outputs": [],
   "source": [
    "df_ACS = prepare_ACS(dept)\n",
    "summarize_ACS(df_ACS)"
   ]
  },
  {
   "cell_type": "markdown",
   "metadata": {
    "_uuid": "a351632112281a5e9d3bbd792ca493e3148f0bb2"
   },
   "source": [
    "* The population is mostly white, with a 63% that is fairly in line with the country rate. For this kind of things there is always some ambiguity regarding the Hispanic ethnicity and I still look for a solid solution.\n",
    "* The maximum and minimum in the race percentages by location reveals that there are places where racial diversity is not achieved at all. This indicates that any aggregation at the city level is limited since it misses the diverse situation across this department.\n",
    "* The unemployment rate is not uniformly distributed, having a higher rate for black people (and males).\n",
    "* Not surprisingly given the previous result, the poverty rate for black people is higher. On the other side, females have a higher poverty rate regardless of being more employed (although it is very close to the average)\n",
    "* The Hispanic ethnicity seems to be more vulnerable economically, this is an interesting result because it goes across races (being an ethnicity). Unfortunately, my selection is limiting the investigation and we would need to go back to the imported file to know more.\n",
    "* For everyone but white people, there is at least one location with 100% poverty rate. This can be due to numerically low representatives in some locations but, looking at the medians, we see that Blacks and Hispanics are more vulnerable in this sense.\n",
    "* The median incomes might indicate more disparity among black people, which reach a much lower minimum and the slightly higher maximum.\n",
    "* Education-wise, white and black people seem to have a similar behavior up to the high school but for the higher education we observe some disparity. It is too little to say if this determines or is determined by some of the results summarized above.\n",
    "* The Hispanic ethnicity seems to have a bigger problem already at the high school level.\n",
    "\n",
    "Now, we have seen that we need to summarize these data at a different granular level. We thus need the census shapefiles for Indiana and the appropriate census track. Here it is provided as an external source."
   ]
  },
  {
   "cell_type": "code",
   "execution_count": null,
   "metadata": {
    "_uuid": "1a0287119c9815073e4e5bcb6e971219557a4b45"
   },
   "outputs": [],
   "source": [
    "ref_id = gp.read_file('../input/indiana-shape/cb_2015_18_tract_500k.shp')\n",
    "ref_id.to_crs({'init': 'epsg:32118'},inplace=True) # because meters are better\n",
    "ref_id = ref_id[['GEOID', 'geometry']].copy()\n",
    "ref_id.rename(columns={'GEOID' : 'GEO.id2'}, inplace=True)\n",
    "ref_id.head()"
   ]
  },
  {
   "cell_type": "markdown",
   "metadata": {
    "_uuid": "94386c92e87553a66152eb124599892aee655429"
   },
   "source": [
    "And if we plot it we see that is really the State of Indiana"
   ]
  },
  {
   "cell_type": "code",
   "execution_count": null,
   "metadata": {
    "_uuid": "385bee761061170045e732f7e987f257d8bd5709"
   },
   "outputs": [],
   "source": [
    "ref_id.plot()"
   ]
  },
  {
   "cell_type": "markdown",
   "metadata": {
    "_uuid": "54b72abe443db1a310eeb80c97735e327da0dfe6"
   },
   "source": [
    "Yep, that looks like Indiana. To merge it with our census data we need a small correction but after that we can give a polygon to every geographical Id"
   ]
  },
  {
   "cell_type": "code",
   "execution_count": null,
   "metadata": {
    "_uuid": "3dd99664e40fd92d38f3185724d5de629f2ea417"
   },
   "outputs": [],
   "source": [
    "ref_id['GEO.id2'] = pd.to_numeric(ref_id['GEO.id2'])\n",
    "acs = pd.merge(df_ACS, ref_id, on='GEO.id2', how='left')"
   ]
  },
  {
   "cell_type": "markdown",
   "metadata": {
    "_uuid": "08978fa1b01906a5033c23895406f00a24c4d7bd"
   },
   "source": [
    "We now use the provided shapefiles, which looks like this"
   ]
  },
  {
   "cell_type": "code",
   "execution_count": null,
   "metadata": {
    "_uuid": "27344d2aa4fee00ca29899f251eeb8934c9d05e4"
   },
   "outputs": [],
   "source": [
    "sh = dept['shapefile_1'].copy()\n",
    "sh.plot(column='DISTRICT')"
   ]
  },
  {
   "cell_type": "markdown",
   "metadata": {
    "_uuid": "87d79f598322449caeafa8dd00861f491edfd777"
   },
   "source": [
    "We immediately see that the projection is different, but luckily we can simply change it"
   ]
  },
  {
   "cell_type": "code",
   "execution_count": null,
   "metadata": {
    "_uuid": "1913db9c5b1f0254ff4fcc3ce43b724564c3181f"
   },
   "outputs": [],
   "source": [
    "sh.to_crs({'init': 'epsg:32118'},inplace=True)\n",
    "sh.plot(column='DISTRICT')"
   ]
  },
  {
   "cell_type": "markdown",
   "metadata": {
    "_uuid": "a5ef7ebb96d4f6e3d4c38d120498a59dd1ee7f62"
   },
   "source": [
    "What I want to do is to overlap this shapefile with the other one so that I know in which district each geographic Id falls in and in which proportion."
   ]
  },
  {
   "cell_type": "code",
   "execution_count": null,
   "metadata": {
    "_uuid": "0bdcdb0a515539960fa847b50db8025637b5a3a9"
   },
   "outputs": [],
   "source": [
    "sh = sh[['DISTRICT', 'geometry']].copy()\n",
    "\n",
    "inter_shape = []\n",
    "for index, crim in sh.iterrows():\n",
    "    for index2, popu in acs.iterrows():\n",
    "        if crim['geometry'].intersects(popu['geometry']):\n",
    "            inter_shape.append({'geometry': crim['geometry'].intersection(popu['geometry']),\n",
    "                         'district': crim['DISTRICT'],\n",
    "                         'GEO.id2' : popu['GEO.id2'],\n",
    "                         'area':crim['geometry'].intersection(popu['geometry']).area})\n",
    "            \n",
    "inter_shape = gp.GeoDataFrame(inter_shape,columns=['geometry', 'district', 'GEO.id2','area'])\n",
    "\n",
    "inter_shape.head()"
   ]
  },
  {
   "cell_type": "markdown",
   "metadata": {
    "_uuid": "338eb473a7c8f19c72e96b7c564ad866f3cbf1b8"
   },
   "source": [
    "We need another step to have what we want. We need to find if each Geo.Id falls inside a district completely or it is shared. Some simple (an inelegant) table manipulation gives the answer"
   ]
  },
  {
   "cell_type": "code",
   "execution_count": null,
   "metadata": {
    "_uuid": "63b0b20e7f3b20403ec84e87f62910db2103d2a7"
   },
   "outputs": [],
   "source": [
    "tmp = inter_shape[['GEO.id2', 'district', 'area']].groupby(['GEO.id2', 'district'], as_index=False).sum()\n",
    "tmp_2 = inter_shape[['GEO.id2', 'area']].groupby(['GEO.id2'], as_index=False).sum()\n",
    "inter_shape = pd.merge(tmp, tmp_2, on='GEO.id2')\n",
    "inter_shape['fraction'] = inter_shape['area_x'] / inter_shape['area_y']\n",
    "del inter_shape['area_x']\n",
    "del inter_shape['area_y']\n",
    "del tmp\n",
    "del tmp_2\n",
    "inter_shape.head()"
   ]
  },
  {
   "cell_type": "code",
   "execution_count": null,
   "metadata": {
    "_uuid": "8c4f78ab5aeae0c3b833c4f1314968b4688f2436"
   },
   "outputs": [],
   "source": [
    "# and finally merge census and shapefile so that we have the districts\n",
    "acs_merged = pd.merge(df_ACS, inter_shape)\n",
    "acs_merged.head()"
   ]
  },
  {
   "cell_type": "markdown",
   "metadata": {
    "_uuid": "f67a1561b12325b3a270c8acd707d798caa641d1"
   },
   "source": [
    "The LOCATION_DISTRICT of the police file has some different names and I suspect that the one that looked somewhat weird can be all categorized as Excluded. The next cell takes care of that"
   ]
  },
  {
   "cell_type": "code",
   "execution_count": null,
   "metadata": {
    "_uuid": "8fb3557c1eb399ccc58042941b08eb61621f73b6"
   },
   "outputs": [],
   "source": [
    "renaming = {'East District': 'East',\n",
    "           'Southwest District': 'Southwest',\n",
    "           'Northwest District': 'Northwest',\n",
    "           'North District': 'North',\n",
    "           'Southeast District': 'Southeast',\n",
    "           'Downtown  District': 'Downtown'}\n",
    "\n",
    "pol_df.LOCATION_DISTRICT = pol_df.LOCATION_DISTRICT.map(renaming).fillna('Excluded')\n",
    "\n",
    "pol_df.LOCATION_DISTRICT.value_counts(dropna=False)"
   ]
  },
  {
   "cell_type": "code",
   "execution_count": null,
   "metadata": {
    "_uuid": "918863c5d899242a87f93a5123dbb47a3b35a0eb"
   },
   "outputs": [],
   "source": [
    "# recall again the police_by_district aggregation\n",
    "pol = police_by_distr(pol_df, \"LOCATION_DISTRICT\")\n",
    "pol"
   ]
  },
  {
   "cell_type": "markdown",
   "metadata": {
    "_uuid": "922f177ffbd03400bea626d5b531c99b55fa3596"
   },
   "source": [
    "Now, so far we have prepared the census data so that we have a district and we made sure that the police data are aggregated by the same districts. Before finally put everything together, we need to aggregate the census data as well. In doing so, we have to take into account what fraction of a GEO.Id falls into a given district. This is done by the following function"
   ]
  },
  {
   "cell_type": "code",
   "execution_count": null,
   "metadata": {
    "_uuid": "68c778d418f1b4240be28bca35c53f48b56ba771"
   },
   "outputs": [],
   "source": [
    "def acs_by_district(data):\n",
    "    data = data[[col for col in data.columns if 'GEO' not in col \n",
    "                 and 'geometry' not in col]].copy()\n",
    "    \n",
    "    # applying the fraction to the merged dataframe\n",
    "    fraction = data['fraction']\n",
    "    del data['fraction']\n",
    "    cols = [col for col in data.columns if 'district' not in col]\n",
    "    data[cols] = data[cols].multiply(fraction, axis=\"index\")\n",
    "    \n",
    "    sel = ['district'] + [col for col in data.columns if '_est' in col \n",
    "                          or col.startswith('total_')]\n",
    "    \n",
    "    # grouping the totals\n",
    "    tot_cols = [col for col in sel if 'perc' not in col\n",
    "               and 'rate' not in col and 'median' not in col]\n",
    "    totals = data[tot_cols].groupby('district', as_index=False).sum()\n",
    "    \n",
    "    # grouping the proportions\n",
    "    try:\n",
    "        prp = [col for col in sel if 'perc' in col\n",
    "                                   or 'rate' in col]\n",
    "        prop_cols = ['district'] + prp\n",
    "        props = data[prop_cols].copy()\n",
    "        # make them proportions\n",
    "        props[prp] = props[prp].multiply(0.01, axis='index')\n",
    "        # groupby with weighted average\n",
    "        wm = lambda x: np.average(x, weights=data.loc[x.index, \"total_population\"])\n",
    "        props = props.groupby('district', as_index=False).agg(wm)    \n",
    "    except KeyError:\n",
    "        print(\"Total population unavailable, percentages and rates can't be summarized\")\n",
    "        \n",
    "    # mergin together\n",
    "    summary = pd.merge(totals, props, on='district')\n",
    "    \n",
    "    return summary"
   ]
  },
  {
   "cell_type": "code",
   "execution_count": null,
   "metadata": {
    "_uuid": "e8ea6b335a97c6f3683ef59cdea2a382ee5b5135"
   },
   "outputs": [],
   "source": [
    "acs_agg = acs_by_district(acs_merged)\n",
    "acs_agg"
   ]
  },
  {
   "cell_type": "markdown",
   "metadata": {
    "_uuid": "a915c86ca6ffdb014e2eba9bde32474489678197"
   },
   "source": [
    "We are finally ready to put everything together"
   ]
  },
  {
   "cell_type": "code",
   "execution_count": null,
   "metadata": {
    "_uuid": "9c995e3c855f2fe4da6b7de4476b3492616152f0"
   },
   "outputs": [],
   "source": [
    "pol.rename(columns={'LOCATION_DISTRICT': 'district'}, inplace=True) # To merge easily\n",
    "tot_agg = pd.merge(acs_agg, pol, on='district')\n",
    "tot_agg"
   ]
  },
  {
   "cell_type": "markdown",
   "metadata": {
    "_uuid": "cd957307ade69e4a2518c6714ad98dd9d69c476a"
   },
   "source": [
    "We have achieved our goal: put police and census data together at some level of granularity when we don't know were exactly the accidents took place. Let's explore the final result."
   ]
  },
  {
   "cell_type": "code",
   "execution_count": null,
   "metadata": {
    "_uuid": "c9bb2cb4a75970dc279b853fe69a3dc45d12b946"
   },
   "outputs": [],
   "source": [
    "max_rec = tot_agg.total_records.max()\n",
    "min_rec = tot_agg.total_records.min()\n",
    "tot_rec = tot_agg.total_records.sum()\n",
    "print(tot_rec, max_rec, min_rec)"
   ]
  },
  {
   "cell_type": "code",
   "execution_count": null,
   "metadata": {
    "_uuid": "a2b0568a43b98a8d5ffe14f5b3be51a265c64c36"
   },
   "outputs": [],
   "source": [
    "tot_agg['records_pp'] = tot_agg.total_records / tot_agg.total_population\n",
    "tot_agg[['district', 'total_records', 'total_population', 'records_pp']]"
   ]
  },
  {
   "cell_type": "markdown",
   "metadata": {
    "_uuid": "6d3f3082bcd9722e2b51483b9bbdcb25b7243217"
   },
   "source": [
    "Which makes sense because Downtown is reasonably an area with more police control."
   ]
  },
  {
   "cell_type": "code",
   "execution_count": null,
   "metadata": {
    "_uuid": "d8f7802285e90dca54873b3c0036ad7127d35469"
   },
   "outputs": [],
   "source": [
    "tot_agg['pol_white_perc'] = tot_agg.White / tot_agg.total_records # percentages of the total police records, by race\n",
    "tot_agg['pol_black_perc'] = tot_agg.Black / tot_agg.total_records\n",
    "tot_agg['pol_hispanic_perc'] = tot_agg.Hispanic / tot_agg.total_records\n",
    "\n",
    "tot_agg['records_pp_white'] = tot_agg.White / tot_agg.total_white  # crime rate by race\n",
    "tot_agg['records_pp_black'] = tot_agg.Black / tot_agg.total_black\n",
    "tot_agg['records_pp_hispanic'] = tot_agg.Hispanic / tot_agg.total_hispanic\n",
    "\n",
    "tot_agg[['district', 'records_pp', 'total_white', 'total_black', 'total_hispanic', \n",
    "         'pol_white_perc', 'pol_black_perc', 'pol_hispanic_perc', 'records_pp_white', 'records_pp_black', 'records_pp_hispanic']]"
   ]
  },
  {
   "cell_type": "markdown",
   "metadata": {
    "_uuid": "2463ffc2e6bf5e13a401dc6e7baef65810522f12"
   },
   "source": [
    "It would be interesting to see how other socio-demographic factors play a role in having different crime rates in different districts (*Why Downtown has such a high crime rate?*, etc). \n",
    "\n",
    "Another interesting question regards the different distribution of the population (the southern districts are mostly white citizens, while black citizens live in the northern ones)\n",
    "\n",
    "I will reserve these studies to a future kernel since I don't have time to do so before the end of the competition.\n",
    "\n",
    "\n",
    "# Conclusions and next steps\n",
    "\n",
    "This kernel has great margins of improvements and customization. The cases here presented (Dallas for the exposition of the base functions and Indianapolis for the case study) were chosen fairly randomly and I am particularly happy about being able to change an index on the top of the page and get similar results without too much work. All that being said, choices were made along the way and were biased by my curiosity, interest, and ability of execution. Therefore I see this as a first step and I really hope it will inspire someone to make it better or to perform a more accurate analysis.\n",
    "\n",
    "One thing that I take away from this kernel is the following. Summary statistics and aggregations are necessary to peek into the message contained in very large datasets. However, it has to be kept in mind that the story they tell is always an approximation of a complex situation. **Different levels of granularity can tell different stories**. Pretty much in the same way people say *Africa is poor* or *Europe is rich*, completely ignoring that Africa is a very big place with very different stories to tell.\n",
    "\n",
    "I say that because we often observe that the percentages of crimes by race are not proportional to the underlying population and any statistical test of goodness of fit will tell that no, that sample is not randomly extracted from the population. When this happens, the counter-argument is sometimes related to different crime rates and socioeconomic indicators, etc. All of this is true but they are all a simplification of a very complex argument, ignoring relations of cause and effect while focusing on correlations.\n",
    "\n",
    "On the other side, the response of trained officials should be guaranteed by a democratic State and, if we observe that it is not uniform if the color of the skin of a suspect is different, then we have a problem. Here, we have seen that the police was behaving fairly uniformly in any use of force, except for the lethal use of force. This is my definition of injustice.\n",
    "\n",
    "However, for the sake of completeness, even this result is partial. Not only a table does not contain the nuances of a situation but also does not contain all the counterfactuals. In other words, we don't know from this data how many times an officer could have used lethal force but didn't as well as we don't know what would have happened if the lethal force was not used. In my vision, a complete analysis would require that as well, or it will risk being biased in searching for a bias.\n",
    "\n",
    "\n",
    "Thank you for reading this far, please let the feedback come, it is a very important topic that requires the attention of everyone."
   ]
  }
 ],
 "metadata": {
  "kernelspec": {
   "display_name": "Python 3",
   "language": "python",
   "name": "python3"
  },
  "language_info": {
   "codemirror_mode": {
    "name": "ipython",
    "version": 3
   },
   "file_extension": ".py",
   "mimetype": "text/x-python",
   "name": "python",
   "nbconvert_exporter": "python",
   "pygments_lexer": "ipython3",
   "version": "3.6.7"
  }
 },
 "nbformat": 4,
 "nbformat_minor": 1
}
